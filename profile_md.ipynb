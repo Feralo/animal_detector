{
 "cells": [
  {
   "cell_type": "code",
   "execution_count": 1,
   "metadata": {},
   "outputs": [
    {
     "name": "stderr",
     "output_type": "stream",
     "text": [
      "2020-11-01 22:26:49.737 WARNING tensorflow: From /home/rave/animal_detector/animal_detector/detection/run_tf_detector.py:208: The name tf.GraphDef is deprecated. Please use tf.compat.v1.GraphDef instead.\n",
      "\n",
      "2020-11-01 22:26:49.738 WARNING tensorflow: From /home/rave/animal_detector/animal_detector/detection/run_tf_detector.py:209: The name tf.gfile.GFile is deprecated. Please use tf.io.gfile.GFile instead.\n",
      "\n"
     ]
    },
    {
     "name": "stdout",
     "output_type": "stream",
     "text": [
      "TensorFlow version: 1.14.0\n",
      "Is GPU available? tf.test.is_gpu_available: True\n",
      "TensorFlow version: 1.14.0\n",
      "tf.test.is_gpu_available: True\n",
      "TFDetector: Loading graph...\n"
     ]
    },
    {
     "name": "stderr",
     "output_type": "stream",
     "text": [
      "2020-11-01 22:26:54.601 WARNING tensorflow: From /home/rave/animal_detector/animal_detector/detection/run_tf_detector.py:147: The name tf.Session is deprecated. Please use tf.compat.v1.Session instead.\n",
      "\n",
      "  0%|          | 0/39 [00:00<?, ?it/s]"
     ]
    },
    {
     "name": "stdout",
     "output_type": "stream",
     "text": [
      "TFDetector: Detection graph loaded.\n",
      "Loaded model in 4.87 seconds\n",
      "Processing image /home/rave/coco-annotator/datasets/animal_detector/nightbunnies.JPG\n"
     ]
    },
    {
     "name": "stderr",
     "output_type": "stream",
     "text": [
      "  3%|▎         | 1/39 [00:09<06:06,  9.65s/it]"
     ]
    },
    {
     "name": "stdout",
     "output_type": "stream",
     "text": [
      "Processing image /home/rave/coco-annotator/datasets/animal_detector/Pig 1.JPG\n"
     ]
    },
    {
     "name": "stderr",
     "output_type": "stream",
     "text": [
      "  5%|▌         | 2/39 [00:10<04:15,  6.90s/it]"
     ]
    },
    {
     "name": "stdout",
     "output_type": "stream",
     "text": [
      "Processing image /home/rave/coco-annotator/datasets/animal_detector/Bird_Shrike.JPG\n"
     ]
    },
    {
     "name": "stderr",
     "output_type": "stream",
     "text": [
      "  8%|▊         | 3/39 [00:10<02:59,  4.98s/it]"
     ]
    },
    {
     "name": "stdout",
     "output_type": "stream",
     "text": [
      "Processing image /home/rave/coco-annotator/datasets/animal_detector/Black Tailed Hare 2.JPG\n"
     ]
    },
    {
     "name": "stderr",
     "output_type": "stream",
     "text": [
      " 10%|█         | 4/39 [00:11<02:07,  3.63s/it]"
     ]
    },
    {
     "name": "stdout",
     "output_type": "stream",
     "text": [
      "Processing image /home/rave/coco-annotator/datasets/animal_detector/Bird_Western Kingbird 1.JPG\n"
     ]
    },
    {
     "name": "stderr",
     "output_type": "stream",
     "text": [
      " 13%|█▎        | 5/39 [00:11<01:31,  2.69s/it]"
     ]
    },
    {
     "name": "stdout",
     "output_type": "stream",
     "text": [
      "Processing image /home/rave/coco-annotator/datasets/animal_detector/Ground Squirrel 1.JPG\n"
     ]
    },
    {
     "name": "stderr",
     "output_type": "stream",
     "text": [
      " 15%|█▌        | 6/39 [00:12<01:07,  2.03s/it]"
     ]
    },
    {
     "name": "stdout",
     "output_type": "stream",
     "text": [
      "Processing image /home/rave/coco-annotator/datasets/animal_detector/Ground Squirrel 3.JPG\n"
     ]
    },
    {
     "name": "stderr",
     "output_type": "stream",
     "text": [
      " 18%|█▊        | 7/39 [00:12<00:50,  1.58s/it]"
     ]
    },
    {
     "name": "stdout",
     "output_type": "stream",
     "text": [
      "Processing image /home/rave/coco-annotator/datasets/animal_detector/Badger 3.JPG\n"
     ]
    },
    {
     "name": "stderr",
     "output_type": "stream",
     "text": [
      " 21%|██        | 8/39 [00:13<00:39,  1.28s/it]"
     ]
    },
    {
     "name": "stdout",
     "output_type": "stream",
     "text": [
      "Processing image /home/rave/coco-annotator/datasets/animal_detector/Coyote 2.JPG\n"
     ]
    },
    {
     "name": "stderr",
     "output_type": "stream",
     "text": [
      " 23%|██▎       | 9/39 [00:13<00:31,  1.06s/it]"
     ]
    },
    {
     "name": "stdout",
     "output_type": "stream",
     "text": [
      "Processing image /home/rave/coco-annotator/datasets/animal_detector/Gound Squirrel 2.JPG\n"
     ]
    },
    {
     "name": "stderr",
     "output_type": "stream",
     "text": [
      " 26%|██▌       | 10/39 [00:14<00:26,  1.10it/s]"
     ]
    },
    {
     "name": "stdout",
     "output_type": "stream",
     "text": [
      "Processing image /home/rave/coco-annotator/datasets/animal_detector/Black Tailed Hare 1.JPG\n"
     ]
    },
    {
     "name": "stderr",
     "output_type": "stream",
     "text": [
      " 28%|██▊       | 11/39 [00:14<00:22,  1.26it/s]"
     ]
    },
    {
     "name": "stdout",
     "output_type": "stream",
     "text": [
      "Processing image /home/rave/coco-annotator/datasets/animal_detector/Coyote 1.JPG\n"
     ]
    },
    {
     "name": "stderr",
     "output_type": "stream",
     "text": [
      " 31%|███       | 12/39 [00:15<00:19,  1.41it/s]"
     ]
    },
    {
     "name": "stdout",
     "output_type": "stream",
     "text": [
      "Processing image /home/rave/coco-annotator/datasets/animal_detector/closefur2.JPG\n"
     ]
    },
    {
     "name": "stderr",
     "output_type": "stream",
     "text": [
      " 33%|███▎      | 13/39 [00:15<00:16,  1.56it/s]"
     ]
    },
    {
     "name": "stdout",
     "output_type": "stream",
     "text": [
      "Processing image /home/rave/coco-annotator/datasets/animal_detector/Coyote Juvenile.JPG\n"
     ]
    },
    {
     "name": "stderr",
     "output_type": "stream",
     "text": [
      " 36%|███▌      | 14/39 [00:16<00:15,  1.65it/s]"
     ]
    },
    {
     "name": "stdout",
     "output_type": "stream",
     "text": [
      "Processing image /home/rave/coco-annotator/datasets/animal_detector/Coyote 4.JPG\n"
     ]
    },
    {
     "name": "stderr",
     "output_type": "stream",
     "text": [
      " 38%|███▊      | 15/39 [00:16<00:14,  1.68it/s]"
     ]
    },
    {
     "name": "stdout",
     "output_type": "stream",
     "text": [
      "Processing image /home/rave/coco-annotator/datasets/animal_detector/Badger 1.JPG\n"
     ]
    },
    {
     "name": "stderr",
     "output_type": "stream",
     "text": [
      " 41%|████      | 16/39 [00:17<00:13,  1.72it/s]"
     ]
    },
    {
     "name": "stdout",
     "output_type": "stream",
     "text": [
      "Processing image /home/rave/coco-annotator/datasets/animal_detector/steve.JPG\n"
     ]
    },
    {
     "name": "stderr",
     "output_type": "stream",
     "text": [
      " 44%|████▎     | 17/39 [00:18<00:12,  1.74it/s]"
     ]
    },
    {
     "name": "stdout",
     "output_type": "stream",
     "text": [
      "Processing image /home/rave/coco-annotator/datasets/animal_detector/blurrybunny.JPG\n"
     ]
    },
    {
     "name": "stderr",
     "output_type": "stream",
     "text": [
      " 46%|████▌     | 18/39 [00:18<00:11,  1.76it/s]"
     ]
    },
    {
     "name": "stdout",
     "output_type": "stream",
     "text": [
      "Processing image /home/rave/coco-annotator/datasets/animal_detector/trickycanid.JPG\n"
     ]
    },
    {
     "name": "stderr",
     "output_type": "stream",
     "text": [
      " 49%|████▊     | 19/39 [00:19<00:11,  1.76it/s]"
     ]
    },
    {
     "name": "stdout",
     "output_type": "stream",
     "text": [
      "Processing image /home/rave/coco-annotator/datasets/animal_detector/Tule Elk 1.JPG\n"
     ]
    },
    {
     "name": "stderr",
     "output_type": "stream",
     "text": [
      " 51%|█████▏    | 20/39 [00:19<00:10,  1.79it/s]"
     ]
    },
    {
     "name": "stdout",
     "output_type": "stream",
     "text": [
      "Processing image /home/rave/coco-annotator/datasets/animal_detector/Bird_Shrike 2.JPG\n"
     ]
    },
    {
     "name": "stderr",
     "output_type": "stream",
     "text": [
      " 54%|█████▍    | 21/39 [00:20<00:09,  1.84it/s]"
     ]
    },
    {
     "name": "stdout",
     "output_type": "stream",
     "text": [
      "Processing image /home/rave/coco-annotator/datasets/animal_detector/Badger 2.JPG\n"
     ]
    },
    {
     "name": "stderr",
     "output_type": "stream",
     "text": [
      " 56%|█████▋    | 22/39 [00:20<00:09,  1.88it/s]"
     ]
    },
    {
     "name": "stdout",
     "output_type": "stream",
     "text": [
      "Processing image /home/rave/coco-annotator/datasets/animal_detector/Fox.JPG\n"
     ]
    },
    {
     "name": "stderr",
     "output_type": "stream",
     "text": [
      " 59%|█████▉    | 23/39 [00:21<00:08,  1.89it/s]"
     ]
    },
    {
     "name": "stdout",
     "output_type": "stream",
     "text": [
      "Processing image /home/rave/coco-annotator/datasets/animal_detector/Rattlesnake.JPG\n"
     ]
    },
    {
     "name": "stderr",
     "output_type": "stream",
     "text": [
      " 62%|██████▏   | 24/39 [00:21<00:07,  1.89it/s]"
     ]
    },
    {
     "name": "stdout",
     "output_type": "stream",
     "text": [
      "Processing image /home/rave/coco-annotator/datasets/animal_detector/farwolf.JPG\n"
     ]
    },
    {
     "name": "stderr",
     "output_type": "stream",
     "text": [
      " 64%|██████▍   | 25/39 [00:22<00:07,  1.83it/s]"
     ]
    },
    {
     "name": "stdout",
     "output_type": "stream",
     "text": [
      "Processing image /home/rave/coco-annotator/datasets/animal_detector/Bird_Squirrel.JPG\n"
     ]
    },
    {
     "name": "stderr",
     "output_type": "stream",
     "text": [
      " 67%|██████▋   | 26/39 [00:22<00:07,  1.85it/s]"
     ]
    },
    {
     "name": "stdout",
     "output_type": "stream",
     "text": [
      "Processing image /home/rave/coco-annotator/datasets/animal_detector/vehicle.JPG\n"
     ]
    },
    {
     "name": "stderr",
     "output_type": "stream",
     "text": [
      " 69%|██████▉   | 27/39 [00:23<00:06,  1.83it/s]"
     ]
    },
    {
     "name": "stdout",
     "output_type": "stream",
     "text": [
      "Processing image /home/rave/coco-annotator/datasets/animal_detector/canid.JPG\n"
     ]
    },
    {
     "name": "stderr",
     "output_type": "stream",
     "text": [
      " 72%|███████▏  | 28/39 [00:23<00:06,  1.83it/s]"
     ]
    },
    {
     "name": "stdout",
     "output_type": "stream",
     "text": [
      "Processing image /home/rave/coco-annotator/datasets/animal_detector/Tule Elk 2.JPG\n"
     ]
    },
    {
     "name": "stderr",
     "output_type": "stream",
     "text": [
      " 74%|███████▍  | 29/39 [00:24<00:05,  1.84it/s]"
     ]
    },
    {
     "name": "stdout",
     "output_type": "stream",
     "text": [
      "Processing image /home/rave/coco-annotator/datasets/animal_detector/Coyote 5.JPG\n"
     ]
    },
    {
     "name": "stderr",
     "output_type": "stream",
     "text": [
      " 77%|███████▋  | 30/39 [00:25<00:04,  1.83it/s]"
     ]
    },
    {
     "name": "stdout",
     "output_type": "stream",
     "text": [
      "Processing image /home/rave/coco-annotator/datasets/animal_detector/Pig 2.JPG\n"
     ]
    },
    {
     "name": "stderr",
     "output_type": "stream",
     "text": [
      " 79%|███████▉  | 31/39 [00:25<00:04,  1.81it/s]"
     ]
    },
    {
     "name": "stdout",
     "output_type": "stream",
     "text": [
      "Processing image /home/rave/coco-annotator/datasets/animal_detector/Coyote 7.JPG\n"
     ]
    },
    {
     "name": "stderr",
     "output_type": "stream",
     "text": [
      " 82%|████████▏ | 32/39 [00:26<00:03,  1.81it/s]"
     ]
    },
    {
     "name": "stdout",
     "output_type": "stream",
     "text": [
      "Processing image /home/rave/coco-annotator/datasets/animal_detector/Coyote 3.JPG\n"
     ]
    },
    {
     "name": "stderr",
     "output_type": "stream",
     "text": [
      " 85%|████████▍ | 33/39 [00:26<00:03,  1.84it/s]"
     ]
    },
    {
     "name": "stdout",
     "output_type": "stream",
     "text": [
      "Processing image /home/rave/coco-annotator/datasets/animal_detector/Tule Elk 3.JPG\n"
     ]
    },
    {
     "name": "stderr",
     "output_type": "stream",
     "text": [
      " 87%|████████▋ | 34/39 [00:27<00:02,  1.82it/s]"
     ]
    },
    {
     "name": "stdout",
     "output_type": "stream",
     "text": [
      "Processing image /home/rave/coco-annotator/datasets/animal_detector/superclosefur.JPG\n"
     ]
    },
    {
     "name": "stderr",
     "output_type": "stream",
     "text": [
      " 90%|████████▉ | 35/39 [00:27<00:02,  1.82it/s]"
     ]
    },
    {
     "name": "stdout",
     "output_type": "stream",
     "text": [
      "Processing image /home/rave/coco-annotator/datasets/animal_detector/Western Kingbird 2.JPG\n"
     ]
    },
    {
     "name": "stderr",
     "output_type": "stream",
     "text": [
      " 92%|█████████▏| 36/39 [00:28<00:01,  1.81it/s]"
     ]
    },
    {
     "name": "stdout",
     "output_type": "stream",
     "text": [
      "Processing image /home/rave/coco-annotator/datasets/animal_detector/Black Tailed Hare 3.JPG\n"
     ]
    },
    {
     "name": "stderr",
     "output_type": "stream",
     "text": [
      " 95%|█████████▍| 37/39 [00:28<00:01,  1.84it/s]"
     ]
    },
    {
     "name": "stdout",
     "output_type": "stream",
     "text": [
      "Processing image /home/rave/coco-annotator/datasets/animal_detector/Coyote 6.JPG\n"
     ]
    },
    {
     "name": "stderr",
     "output_type": "stream",
     "text": [
      " 97%|█████████▋| 38/39 [00:29<00:00,  1.83it/s]"
     ]
    },
    {
     "name": "stdout",
     "output_type": "stream",
     "text": [
      "Processing image /home/rave/coco-annotator/datasets/animal_detector/Black Tailed Hare 4.JPG\n"
     ]
    },
    {
     "name": "stderr",
     "output_type": "stream",
     "text": [
      "100%|██████████| 39/39 [00:29<00:00,  1.30it/s]\n"
     ]
    }
   ],
   "source": [
    "import streamlit as st\n",
    "from animal_detector.detection.run_tf_detector import ImagePathUtils\n",
    "from animal_detector.detection.run_tf_detector_batch import *\n",
    "from animal_detector.detection.run_tf_detector import load_and_run_detector\n",
    "import os\n",
    "\n",
    "image_file_names = ImagePathUtils.find_images(\"/home/rave/coco-annotator/datasets/animal_detector/\", False)\n",
    "\n",
    "results = load_and_run_detector_batch(model_file=\"./md_v4.1.0.pb\",\n",
    "                                        image_file_names=image_file_names,\n",
    "                                        checkpoint_path=None,\n",
    "                                        confidence_threshold=.65,\n",
    "                                        checkpoint_frequency=-1,\n",
    "                                        results=[],\n",
    "                                        n_cores=1)"
   ]
  },
  {
   "cell_type": "code",
   "execution_count": 2,
   "metadata": {},
   "outputs": [
    {
     "name": "stdout",
     "output_type": "stream",
     "text": [
      "loading annotations into memory...\n",
      "Done (t=0.00s)\n",
      "creating index...\n",
      "index created!\n"
     ]
    }
   ],
   "source": [
    "from pycocotools.coco import COCO\n",
    "from pycocotools.cocoeval import COCOeval\n",
    "annFile = './coco-1604215619.198263.json'\n",
    "cocoGt=COCO(annFile)"
   ]
  },
  {
   "cell_type": "code",
   "execution_count": 3,
   "metadata": {},
   "outputs": [],
   "source": [
    "import skimage.io as skio\n",
    "def get_shape(fname):\n",
    "    arr = skio.imread(fname)\n",
    "    yheight, xwidth, _ = arr.shape\n",
    "    return (yheight, xwidth)\n",
    "edited = results.copy()\n",
    "gt_imids = cocoGt.getImgIds()\n",
    "cocoresults = []\n",
    "for fileid in range(len(edited)):\n",
    "    for detectionid in range(len(edited[fileid]['detections'])):\n",
    "        yheight, xwidth = get_shape(edited[fileid]['file'])\n",
    "        if len(edited[fileid]['detections'])==0:\n",
    "            pass\n",
    "        elif edited[fileid]['detections'][detectionid]['category'] == '1':\n",
    "            bbox_norm = edited[fileid]['detections'][detectionid]['bbox']\n",
    "            x, y, bwidth, bheight = bbox_norm\n",
    "            bbox = [x*xwidth, y*yheight, bwidth*xwidth, bheight*yheight]\n",
    "            cocoresults.append({'image_id': gt_imids[fileid],\n",
    "                                'category_id' :5, \n",
    "                                'bbox' : bbox,\n",
    "                                'score': edited[fileid]['detections'][detectionid]['conf']})\n",
    "        elif edited[fileid]['detections'][detectionid]['category'] == '2':\n",
    "            bbox_norm = edited[fileid]['detections'][detectionid]['bbox']\n",
    "            x, y, bwidth, bheight = bbox_norm\n",
    "            bbox = [x*xwidth, y*yheight, bwidth*xwidth, bheight*yheight]\n",
    "            cocoresults.append({'image_id': gt_imids[fileid],\n",
    "                    'category_id': 8, \n",
    "                    'bbox' : bbox,\n",
    "                    'score': edited[fileid]['detections'][detectionid]['conf']})\n",
    "        elif edited[fileid]['detections'][detectionid]['category'] == '3':\n",
    "            bbox_norm = edited[fileid]['detections'][detectionid]['bbox']\n",
    "            x, y, bwidth, bheight = bbox_norm\n",
    "            bbox = [x*xwidth, y*yheight, bwidth*xwidth, bheight*yheight]\n",
    "            cocoresults.append({'image_id': gt_imids[fileid],\n",
    "                    'category_id': 9, \n",
    "                    'bbox' : bbox,\n",
    "                    'score': edited[fileid]['detections'][detectionid]['conf']})\n",
    "        else:\n",
    "            bbox_norm = edited[fileid]['detections'][detectionid]['bbox']\n",
    "            x, y, bwidth, bheight = bbox_norm\n",
    "            bbox = [x*xwidth, y*yheight, bwidth*xwidth, bheight*yheight]\n",
    "            cocoresults.append({'image_id': gt_imids[fileid],\n",
    "                    'category_id': int(edited[fileid]['detections'][detectionid]['category']), \n",
    "                    'bbox' : bbox,\n",
    "                    'score': edited[fileid]['detections'][detectionid]['conf']})"
   ]
  },
  {
   "cell_type": "code",
   "execution_count": 17,
   "metadata": {},
   "outputs": [],
   "source": [
    "import numpy as np\n",
    "class COCOeval2(COCOeval):\n",
    "    def summarize(self):\n",
    "        '''\n",
    "        Compute and display summary metrics for evaluation results.\n",
    "        Note this functin can *only* be applied on the default parameter setting\n",
    "        '''\n",
    "        def _summarize(ap=1, iouThr=None, areaRng='all', maxDets=100 ):\n",
    "            p = self.params\n",
    "            iStr = ' {:<18} {} @[ IoU={:<9} | area={:>6s} | maxDets={:>3d} ] = {:0.3f}'\n",
    "            titleStr = 'Average Precision' if ap == 1 else 'Average Recall'\n",
    "            typeStr = '(AP)' if ap==1 else '(AR)'\n",
    "            iouStr = '{:0.2f}:{:0.2f}'.format(p.iouThrs[0], p.iouThrs[-1]) \\\n",
    "                if iouThr is None else '{:0.2f}'.format(iouThr)\n",
    "\n",
    "            aind = [i for i, aRng in enumerate(p.areaRngLbl) if aRng == areaRng]\n",
    "            mind = [i for i, mDet in enumerate(p.maxDets) if mDet == maxDets]\n",
    "            if ap == 1:\n",
    "                # dimension of precision: [TxRxKxAxM]\n",
    "                s = self.eval['precision']\n",
    "                # IoU\n",
    "                if iouThr is not None:\n",
    "                    t = np.where(iouThr == p.iouThrs)[0]\n",
    "                    s = s[t]\n",
    "                s = s[:,:,:,aind,mind]\n",
    "            else:\n",
    "                # dimension of recall: [TxKxAxM]\n",
    "                s = self.eval['recall']\n",
    "                if iouThr is not None:\n",
    "                    t = np.where(iouThr == p.iouThrs)[0]\n",
    "                    s = s[t]\n",
    "                s = s[:,:,aind,mind]\n",
    "            if len(s[s>-1])==0:\n",
    "                mean_s = -1\n",
    "            else:\n",
    "                mean_s = np.mean(s[s>-1])\n",
    "            print(iStr.format(titleStr, typeStr, iouStr, areaRng, maxDets, mean_s))\n",
    "            return mean_s\n",
    "        def _summarizeDets():\n",
    "            stats = np.zeros((14,))\n",
    "            stats[0] = _summarize(1)\n",
    "            stats[1] = _summarize(1, iouThr=.5, maxDets=self.params.maxDets[2])\n",
    "            stats[2] = _summarize(1, iouThr=.75, maxDets=self.params.maxDets[2])\n",
    "            stats[3] = _summarize(1, areaRng='small', maxDets=self.params.maxDets[2])\n",
    "            stats[4] = _summarize(1, areaRng='medium', maxDets=self.params.maxDets[2])\n",
    "            stats[5] = _summarize(1, areaRng='large', maxDets=self.params.maxDets[2])\n",
    "            stats[6] = _summarize(0, iouThr=.5, maxDets=self.params.maxDets[2])\n",
    "            stats[7] = _summarize(0, iouThr=.75, maxDets=self.params.maxDets[2])\n",
    "            stats[8] = _summarize(0, maxDets=self.params.maxDets[0])\n",
    "            stats[9] = _summarize(0, maxDets=self.params.maxDets[1])\n",
    "            stats[10] = _summarize(0, maxDets=self.params.maxDets[2])\n",
    "            stats[11] = _summarize(0, areaRng='small', maxDets=self.params.maxDets[2])\n",
    "            stats[12] = _summarize(0, areaRng='medium', maxDets=self.params.maxDets[2])\n",
    "            stats[13] = _summarize(0, areaRng='large', maxDets=self.params.maxDets[2])\n",
    "        def _summarizeKps():\n",
    "            stats = np.zeros((10,))\n",
    "            stats[0] = _summarize(1, maxDets=20)\n",
    "            stats[1] = _summarize(1, maxDets=20, iouThr=.5)\n",
    "            stats[2] = _summarize(1, maxDets=20, iouThr=.75)\n",
    "            stats[3] = _summarize(1, maxDets=20, areaRng='medium')\n",
    "            stats[4] = _summarize(1, maxDets=20, areaRng='large')\n",
    "            stats[5] = _summarize(0, maxDets=20)\n",
    "            stats[6] = _summarize(0, maxDets=20, iouThr=.5)\n",
    "            stats[7] = _summarize(0, maxDets=20, iouThr=.75)\n",
    "            stats[8] = _summarize(0, maxDets=20, areaRng='medium')\n",
    "            stats[9] = _summarize(0, maxDets=20, areaRng='large')\n",
    "            return stats\n",
    "        if not self.eval:\n",
    "            raise Exception('Please run accumulate() first')\n",
    "        iouType = self.params.iouType\n",
    "        if iouType == 'segm' or iouType == 'bbox':\n",
    "            summarize = _summarizeDets\n",
    "        elif iouType == 'keypoints':\n",
    "            summarize = _summarizeKps\n",
    "        self.stats = summarize()\n",
    "    def __str__(self):\n",
    "        self.summarize()"
   ]
  },
  {
   "cell_type": "code",
   "execution_count": 18,
   "metadata": {},
   "outputs": [
    {
     "name": "stdout",
     "output_type": "stream",
     "text": [
      "Loading and preparing results...\n",
      "DONE (t=0.00s)\n",
      "creating index...\n",
      "index created!\n"
     ]
    }
   ],
   "source": [
    "merged_coco_gt_result=cocoGt.loadRes(cocoresults)"
   ]
  },
  {
   "cell_type": "code",
   "execution_count": 19,
   "metadata": {},
   "outputs": [],
   "source": [
    "cocoEval = COCOeval2(cocoGt,merged_coco_gt_result,'bbox')"
   ]
  },
  {
   "cell_type": "code",
   "execution_count": 20,
   "metadata": {},
   "outputs": [
    {
     "name": "stdout",
     "output_type": "stream",
     "text": [
      "Running per image evaluation...\n",
      "Evaluate annotation type *bbox*\n",
      "DONE (t=0.04s).\n",
      "Accumulating evaluation results...\n",
      "DONE (t=0.01s).\n",
      " Average Precision  (AP) @[ IoU=0.50:0.95 | area=   all | maxDets=100 ] = 0.693\n",
      " Average Precision  (AP) @[ IoU=0.50      | area=   all | maxDets=100 ] = 0.936\n",
      " Average Precision  (AP) @[ IoU=0.75      | area=   all | maxDets=100 ] = 0.740\n",
      " Average Precision  (AP) @[ IoU=0.50:0.95 | area= small | maxDets=100 ] = -1.000\n",
      " Average Precision  (AP) @[ IoU=0.50:0.95 | area=medium | maxDets=100 ] = 0.400\n",
      " Average Precision  (AP) @[ IoU=0.50:0.95 | area= large | maxDets=100 ] = 0.700\n",
      " Average Recall     (AR) @[ IoU=0.50      | area=   all | maxDets=100 ] = 0.955\n",
      " Average Recall     (AR) @[ IoU=0.75      | area=   all | maxDets=100 ] = 0.795\n",
      " Average Recall     (AR) @[ IoU=0.50:0.95 | area=   all | maxDets=  1 ] = 0.605\n",
      " Average Recall     (AR) @[ IoU=0.50:0.95 | area=   all | maxDets= 10 ] = 0.748\n",
      " Average Recall     (AR) @[ IoU=0.50:0.95 | area=   all | maxDets=100 ] = 0.748\n",
      " Average Recall     (AR) @[ IoU=0.50:0.95 | area= small | maxDets=100 ] = -1.000\n",
      " Average Recall     (AR) @[ IoU=0.50:0.95 | area=medium | maxDets=100 ] = 0.400\n",
      " Average Recall     (AR) @[ IoU=0.50:0.95 | area= large | maxDets=100 ] = 0.756\n"
     ]
    }
   ],
   "source": [
    "cocoEval.params.catIds = [5] #animal id : 5\n",
    "imgIds=sorted(cocoGt.getImgIds())\n",
    "cocoEval.params.imgIds = imgIds   \n",
    "cocoEval.evaluate()  \n",
    "cocoEval.accumulate()  \n",
    "cocoEval.summarize() "
   ]
  },
  {
   "cell_type": "code",
   "execution_count": null,
   "metadata": {},
   "outputs": [],
   "source": []
  },
  {
   "cell_type": "code",
   "execution_count": null,
   "metadata": {},
   "outputs": [],
   "source": []
  },
  {
   "cell_type": "code",
   "execution_count": null,
   "metadata": {},
   "outputs": [],
   "source": []
  },
  {
   "cell_type": "code",
   "execution_count": null,
   "metadata": {},
   "outputs": [],
   "source": []
  }
 ],
 "metadata": {
  "kernelspec": {
   "display_name": "Python 3",
   "language": "python",
   "name": "python3"
  },
  "language_info": {
   "codemirror_mode": {
    "name": "ipython",
    "version": 3
   },
   "file_extension": ".py",
   "mimetype": "text/x-python",
   "name": "python",
   "nbconvert_exporter": "python",
   "pygments_lexer": "ipython3",
   "version": "3.7.6"
  }
 },
 "nbformat": 4,
 "nbformat_minor": 4
}
